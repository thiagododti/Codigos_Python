{
 "cells": [
  {
   "cell_type": "code",
   "execution_count": 16,
   "id": "e44fa659",
   "metadata": {},
   "outputs": [
    {
     "name": "stdout",
     "output_type": "stream",
     "text": [
      "100\n"
     ]
    }
   ],
   "source": [
    "import pygame\n",
    "\n",
    "LEFT_MARGIN = 10\n",
    "TOP_MARGIN = 10\n",
    "\n",
    "def ImprimirMolduraPrincipal(height, width, x, y, TOP_MARGIN, LEFT_MARGIN):\n",
    "    # Criação da janela do Pygame\n",
    "    pygame.init()\n",
    "    screen = pygame.display.set_mode((800, 600))\n",
    "    pygame.display.set_caption(\"Imprimir Moldura Principal\")\n",
    "    WHITE = (255, 255, 255)\n",
    "    # Criação das linhas\n",
    "    pygame.draw.line(screen,WHITE, (LEFT_MARGIN, TOP_MARGIN), (LEFT_MARGIN + width, TOP_MARGIN), 3)\n",
    "    pygame.draw.line(screen,WHITE, (LEFT_MARGIN, TOP_MARGIN), (LEFT_MARGIN, TOP_MARGIN + height), 3)\n",
    "    pygame.draw.line(screen,WHITE, (LEFT_MARGIN, TOP_MARGIN + y), (LEFT_MARGIN + x, TOP_MARGIN + y), 3)\n",
    "    pygame.draw.line(screen,WHITE, (LEFT_MARGIN + x, TOP_MARGIN), (LEFT_MARGIN + x, TOP_MARGIN + y), 3)\n",
    "\n",
    "    # Atualização da janela\n",
    "    pygame.display.flip()\n",
    "\n",
    "    # Loop de eventos até que a janela seja fechada\n",
    "    running = True\n",
    "    while running:\n",
    "        for event in pygame.event.get():\n",
    "            if event.type == pygame.QUIT:\n",
    "                running = False\n",
    "\n",
    "    pygame.quit()\n",
    "\n",
    "# Exemplo de uso\n",
    "print('100')\n",
    "ImprimirMolduraPrincipal(200, 300, 300, 200, TOP_MARGIN, LEFT_MARGIN)\n"
   ]
  },
  {
   "cell_type": "code",
   "execution_count": null,
   "id": "030f2985",
   "metadata": {},
   "outputs": [],
   "source": []
  },
  {
   "cell_type": "code",
   "execution_count": null,
   "id": "ca41d171",
   "metadata": {},
   "outputs": [],
   "source": []
  }
 ],
 "metadata": {
  "kernelspec": {
   "display_name": "Python 3 (ipykernel)",
   "language": "python",
   "name": "python3"
  },
  "language_info": {
   "codemirror_mode": {
    "name": "ipython",
    "version": 3
   },
   "file_extension": ".py",
   "mimetype": "text/x-python",
   "name": "python",
   "nbconvert_exporter": "python",
   "pygments_lexer": "ipython3",
   "version": "3.10.9"
  }
 },
 "nbformat": 4,
 "nbformat_minor": 5
}
