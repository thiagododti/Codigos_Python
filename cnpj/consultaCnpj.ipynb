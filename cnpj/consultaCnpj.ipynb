{
 "cells": [
  {
   "cell_type": "code",
   "execution_count": 1,
   "id": "c87643df-50bf-43d7-a5ac-9c65999ebf83",
   "metadata": {
    "tags": []
   },
   "outputs": [],
   "source": [
    "import requests\n",
    "import csv\n",
    "import time"
   ]
  },
  {
   "cell_type": "code",
   "execution_count": 2,
   "id": "d32e1f82-ad47-43eb-b68e-94d58ca06672",
   "metadata": {
    "tags": []
   },
   "outputs": [],
   "source": [
    "''' \n",
    "Codigo para consulta de CNPJ em api publica limitada a 3 cnpjs por minuto.\n",
    "O Codigo busca os cnpjs na API e grava em um arquivo em Excel podendo ter\n",
    "a possibilidade de gravar em banco de dados se modificar o codigo para a\n",
    "conectar com um banco de dados.\n",
    "\n",
    "Necessário remover a pasta do local caso use o codigo novamente\n",
    "pois ele apaga todos os dados e começa novamente a gravação dos dados'''\n",
    "\n",
    "field_names = ['#', 'razao_social', 'atualizado_em',\n",
    "               'natureza_juridica', 'cnpj', 'nome_fantasia',\n",
    "               'situacao_cadastral', 'data_inicio_atividade',\n",
    "               'logradouro', 'numero', 'complemento', 'bairro',\n",
    "               'cidade', 'cep', 'estado', 'ibge_id', 'ddd1',\n",
    "               'telefone1', 'ddd2', 'telefone2', 'email',\n",
    "               'atividade_principal', 'inscricao_estadual',\n",
    "               'ativo', 'estado_ie', 'atualizado_em_ie']\n",
    "inscricao = []\n",
    "contador = 0\n",
    "cnpjs = [\"cnpjAqui\"]"
   ]
  },
  {
   "cell_type": "code",
   "execution_count": 3,
   "id": "e05c8b67-2a23-4ec8-b811-503d5c736081",
   "metadata": {
    "tags": []
   },
   "outputs": [],
   "source": [
    "# Função para consultar o CNPJ\n",
    "\n",
    "def consultaCnpj(cnpjParaConsulta):\n",
    "    consulta = requests.get(f\"https://publica.cnpj.ws/cnpj/{cnpjParaConsulta}\")\n",
    "    consulta = consulta.json()\n",
    "\n",
    "    if 'status' in consulta:\n",
    "        consulta = False\n",
    "\n",
    "    return consulta"
   ]
  },
  {
   "cell_type": "code",
   "execution_count": 4,
   "id": "bf4436c7-cea7-43cf-94ad-adb73a414467",
   "metadata": {
    "tags": []
   },
   "outputs": [],
   "source": [
    "# Função para gravar a inscrição no excel\n",
    "\n",
    "\n",
    "def gravaExcel(cnpjTratado):\n",
    "    with open('Names.csv', 'w') as csvfile:\n",
    "        writer = csv.DictWriter(csvfile, fieldnames=field_names)\n",
    "        writer.writeheader()\n",
    "        writer.writerows(cnpjTratado)\n",
    "    return print(f\"{contador} cnpj verificado \")"
   ]
  },
  {
   "cell_type": "code",
   "execution_count": 5,
   "id": "dcfb02d9-06ab-42c9-8785-4dc82cc2f0c5",
   "metadata": {
    "tags": []
   },
   "outputs": [],
   "source": [
    "# Carrega a lista com os dados\n",
    "\n",
    "def carregaDados(cnpjConsultado):\n",
    "    global inscricao\n",
    "    global contador\n",
    "\n",
    "    if len(cnpjConsultado['estabelecimento']['inscricoes_estaduais']) > 0:\n",
    "        for x in range(len(cnpjConsultado['estabelecimento']['inscricoes_estaduais'])):\n",
    "            inscricao.append({\n",
    "                \"#\": contador,\n",
    "                \"cnpj\": cnpjConsultado['estabelecimento']['cnpj'],\n",
    "                \"razao_social\": cnpjConsultado['razao_social'],\n",
    "                \"atualizado_em\": cnpjConsultado['atualizado_em'],\n",
    "                \"natureza_juridica\": cnpjConsultado['natureza_juridica']['descricao'],\n",
    "                \"nome_fantasia\": cnpjConsultado['estabelecimento']['nome_fantasia'],\n",
    "                \"situacao_cadastral\": cnpjConsultado['estabelecimento']['situacao_cadastral'],\n",
    "                \"data_inicio_atividade\": cnpjConsultado['estabelecimento']['data_inicio_atividade'],\n",
    "                \"logradouro\": cnpjConsultado['estabelecimento']['logradouro'],\n",
    "                \"numero\": cnpjConsultado['estabelecimento']['numero'],\n",
    "                \"complemento\": cnpjConsultado['estabelecimento']['complemento'],\n",
    "                \"bairro\": cnpjConsultado['estabelecimento']['bairro'],\n",
    "                \"cep\": cnpjConsultado['estabelecimento']['cep'],\n",
    "                \"estado\": cnpjConsultado['estabelecimento']['estado']['sigla'],\n",
    "                \"cidade\": cnpjConsultado['estabelecimento']['cidade']['nome'],\n",
    "                \"ibge_id\": cnpjConsultado['estabelecimento']['cidade']['ibge_id'],\n",
    "                \"ddd1\": cnpjConsultado['estabelecimento']['ddd1'],\n",
    "                \"telefone1\": cnpjConsultado['estabelecimento']['telefone1'],\n",
    "                \"ddd2\": cnpjConsultado['estabelecimento']['ddd2'],\n",
    "                \"telefone2\": cnpjConsultado['estabelecimento']['telefone2'],\n",
    "                \"email\": cnpjConsultado['estabelecimento']['email'],\n",
    "                \"atividade_principal\": cnpjConsultado['estabelecimento']['atividade_principal']['descricao'],\n",
    "                \"inscricao_estadual\": cnpjConsultado['estabelecimento']['inscricoes_estaduais'][x]['inscricao_estadual'],\n",
    "                \"ativo\": cnpjConsultado['estabelecimento']['inscricoes_estaduais'][x]['ativo'],\n",
    "                \"estado_ie\": cnpjConsultado['estabelecimento']['inscricoes_estaduais'][x]['estado']['sigla'],\n",
    "                \"atualizado_em_ie\": cnpjConsultado['estabelecimento']['inscricoes_estaduais'][x]['atualizado_em']\n",
    "            })\n",
    "            contador = contador + 1\n",
    "    else:\n",
    "        inscricao.append({\n",
    "            \"#\": contador,\n",
    "            \"cnpj\": cnpjConsultado['estabelecimento']['cnpj'],\n",
    "            \"razao_social\": cnpjConsultado['razao_social'],\n",
    "            \"atualizado_em\": cnpjConsultado['atualizado_em'],\n",
    "            \"natureza_juridica\": cnpjConsultado['natureza_juridica']['descricao'],\n",
    "            \"nome_fantasia\": cnpjConsultado['estabelecimento']['nome_fantasia'],\n",
    "            \"situacao_cadastral\": cnpjConsultado['estabelecimento']['situacao_cadastral'],\n",
    "            \"data_inicio_atividade\": cnpjConsultado['estabelecimento']['data_inicio_atividade'],\n",
    "            \"logradouro\": cnpjConsultado['estabelecimento']['logradouro'],\n",
    "            \"numero\": cnpjConsultado['estabelecimento']['numero'],\n",
    "            \"complemento\": cnpjConsultado['estabelecimento']['complemento'],\n",
    "            \"bairro\": cnpjConsultado['estabelecimento']['bairro'],\n",
    "            \"cep\": cnpjConsultado['estabelecimento']['cep'],\n",
    "            \"estado\": cnpjConsultado['estabelecimento']['estado']['sigla'],\n",
    "            \"cidade\": cnpjConsultado['estabelecimento']['cidade']['nome'],\n",
    "            \"ibge_id\": cnpjConsultado['estabelecimento']['cidade']['ibge_id'],\n",
    "            \"ddd1\": cnpjConsultado['estabelecimento']['ddd1'],\n",
    "            \"telefone1\": cnpjConsultado['estabelecimento']['telefone1'],\n",
    "            \"ddd2\": cnpjConsultado['estabelecimento']['ddd2'],\n",
    "            \"telefone2\": cnpjConsultado['estabelecimento']['telefone2'],\n",
    "            \"email\": cnpjConsultado['estabelecimento']['email'],\n",
    "            \"atividade_principal\": cnpjConsultado['estabelecimento']['atividade_principal']['descricao'],\n",
    "            \"inscricao_estadual\": \"vazio\",\n",
    "            \"ativo\": \"vazio\",\n",
    "            \"estado_ie\": \"vazio\",\n",
    "            \"atualizado_em_ie\": \"vazio\"\n",
    "        })\n",
    "        contador = contador + 1"
   ]
  },
  {
   "cell_type": "code",
   "execution_count": null,
   "id": "a934a17d-cfee-4d22-868b-64f477d0f49d",
   "metadata": {},
   "outputs": [],
   "source": [
    "# Execução\n",
    "\n",
    "for cnpj in cnpjs:\n",
    "    consulta = consultaCnpj(cnpj)\n",
    "    if consulta:\n",
    "        carregaDados(consulta)\n",
    "\n",
    "    gravaExcel(inscricao)\n",
    "    time.sleep(20)\n"
   ]
  }
 ],
 "metadata": {
  "kernelspec": {
   "display_name": "Python 3 (ipykernel)",
   "language": "python",
   "name": "python3"
  },
  "language_info": {
   "codemirror_mode": {
    "name": "ipython",
    "version": 3
   },
   "file_extension": ".py",
   "mimetype": "text/x-python",
   "name": "python",
   "nbconvert_exporter": "python",
   "pygments_lexer": "ipython3",
   "version": "3.10.9"
  }
 },
 "nbformat": 4,
 "nbformat_minor": 5
}
